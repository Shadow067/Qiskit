{
 "cells": [
  {
   "cell_type": "code",
   "execution_count": 20,
   "id": "800c5c7d-8eaa-48b0-bff5-8a130a27e79b",
   "metadata": {},
   "outputs": [],
   "source": [
    "from qiskit_ibm_runtime import QiskitRuntimeService\n",
    "from qiskit_serverless import save_result"
   ]
  },
  {
   "cell_type": "code",
   "execution_count": 21,
   "id": "5ad94d80-b23d-4b39-a183-abf6d7b94263",
   "metadata": {},
   "outputs": [],
   "source": [
    "from qiskit_ibm_runtime import QiskitRuntimeService\n",
    "\n",
    "QiskitRuntimeService.save_account(\n",
    "    channel=\"ibm_quantum\", \n",
    "    token=\"331336e6f4be049aebca8a6c13f4a7fbd8392865dd2f7d461325a8b395fd8eb165e0e12be1ea2e518c17a4dfabf03b777e1eed57fb4ffd5b3792a040969a1c82\", \n",
    "    overwrite=True\n",
    ")"
   ]
  },
  {
   "cell_type": "code",
   "execution_count": 22,
   "id": "cd26ae66-6577-4297-b034-f7c892d9e443",
   "metadata": {},
   "outputs": [],
   "source": [
    "service = QiskitRuntimeService()"
   ]
  },
  {
   "cell_type": "code",
   "execution_count": 23,
   "id": "53ef6156-800c-4676-b54f-b8a65ccfab65",
   "metadata": {},
   "outputs": [
    {
     "name": "stdout",
     "output_type": "stream",
     "text": [
      "144\n",
      "132\n",
      "117\n",
      "117\n",
      "132\n",
      "132\n",
      "117\n",
      "132\n",
      "117\n",
      "132\n",
      "Lowest depth found: 117\n"
     ]
    }
   ],
   "source": [
    "from qiskit_ibm_runtime import QiskitRuntimeService\n",
    "from qiskit import transpile\n",
    "from qiskit.circuit.random import random_circuit\n",
    "\n",
    "service = QiskitRuntimeService()\n",
    "backend = service.backend(\"ibm_brisbane\") \n",
    "\n",
    "num_qubits = 5\n",
    "depth = 4\n",
    "variational_circuit = random_circuit(num_qubits, depth, max_operands=3)\n",
    "\n",
    "lowest_depth = float('inf')\n",
    "best_circuit = None\n",
    "num_transpiles = 10\n",
    "\n",
    "for _ in range(num_transpiles):\n",
    "    transpiled_circuit = transpile(variational_circuit, backend=backend, optimization_level=3)\n",
    "    current_depth = transpiled_circuit.depth()\n",
    "    print(current_depth)\n",
    "    if current_depth < lowest_depth:\n",
    "        lowest_depth = current_depth\n",
    "        best_circuit = transpiled_circuit\n",
    "l3 = lowest_depth\n",
    "print(f\"Lowest depth found: {lowest_depth}\")"
   ]
  },
  {
   "cell_type": "code",
   "execution_count": 24,
   "id": "b9ab03a2-b5b8-472c-a31b-7957de2d6547",
   "metadata": {},
   "outputs": [
    {
     "name": "stdout",
     "output_type": "stream",
     "text": [
      "132\n",
      "132\n",
      "117\n",
      "132\n",
      "132\n",
      "110\n",
      "132\n",
      "132\n",
      "117\n",
      "144\n",
      "Lowest depth found: 110\n"
     ]
    }
   ],
   "source": [
    "for _ in range(num_transpiles):\n",
    "    transpiled_circuit = transpile(variational_circuit, backend=backend, optimization_level=2)\n",
    "    current_depth = transpiled_circuit.depth()\n",
    "    print(current_depth)\n",
    "    if current_depth < lowest_depth:\n",
    "        lowest_depth = current_depth\n",
    "        best_circuit = transpiled_circuit\n",
    "l2 = lowest_depth\n",
    "print(f\"Lowest depth found: {lowest_depth}\")"
   ]
  },
  {
   "cell_type": "code",
   "execution_count": 25,
   "id": "1868a3d3-fb3e-4f2d-934c-611d64f43b5b",
   "metadata": {},
   "outputs": [
    {
     "name": "stdout",
     "output_type": "stream",
     "text": [
      "132\n",
      "155\n",
      "155\n",
      "132\n",
      "119\n",
      "119\n",
      "153\n",
      "155\n",
      "119\n",
      "110\n",
      "Lowest depth found: 110\n"
     ]
    }
   ],
   "source": [
    "for _ in range(num_transpiles):\n",
    "    transpiled_circuit = transpile(variational_circuit, backend=backend, optimization_level=1)\n",
    "    current_depth = transpiled_circuit.depth()\n",
    "    print(current_depth)\n",
    "    if current_depth < lowest_depth:\n",
    "        lowest_depth = current_depth\n",
    "        best_circuit = transpiled_circuit\n",
    "l1 = lowest_depth\n",
    "print(f\"Lowest depth found: {lowest_depth}\")"
   ]
  },
  {
   "cell_type": "code",
   "execution_count": 26,
   "id": "2c48738e-a8f9-4bae-9c8d-ce49b3c45789",
   "metadata": {},
   "outputs": [
    {
     "name": "stderr",
     "output_type": "stream",
     "text": [
      "WARNING:root:Results will be saved as logs sincethere is no information about theauthorization token in the environment.\n",
      "WARNING:root:Results will be saved as logs sincethere is no information about theauthorization token in the environment.\n",
      "WARNING:root:Results will be saved as logs sincethere is no information about theauthorization token in the environment.\n"
     ]
    },
    {
     "name": "stdout",
     "output_type": "stream",
     "text": [
      "\n",
      "Saved Result:110:End Saved Result\n",
      "\n",
      "\n",
      "Saved Result:110:End Saved Result\n",
      "\n",
      "\n",
      "Saved Result:117:End Saved Result\n",
      "\n"
     ]
    },
    {
     "data": {
      "text/plain": [
       "False"
      ]
     },
     "execution_count": 26,
     "metadata": {},
     "output_type": "execute_result"
    }
   ],
   "source": [
    "save_result(l1)"
   ]
  }
 ],
 "metadata": {
  "kernelspec": {
   "display_name": "Python 3 (ipykernel)",
   "language": "python",
   "name": "python3"
  },
  "language_info": {
   "codemirror_mode": {
    "name": "ipython",
    "version": 3
   },
   "file_extension": ".py",
   "mimetype": "text/x-python",
   "name": "python",
   "nbconvert_exporter": "python",
   "pygments_lexer": "ipython3",
   "version": "3.11.9"
  }
 },
 "nbformat": 4,
 "nbformat_minor": 5
}

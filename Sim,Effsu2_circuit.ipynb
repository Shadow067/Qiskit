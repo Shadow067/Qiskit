{
 "cells": [
  {
   "cell_type": "code",
   "execution_count": 188,
   "id": "6b8fbade-071d-43a2-8456-89ce1aeeb437",
   "metadata": {},
   "outputs": [],
   "source": [
    "from qiskit_serverless import ServerlessClient\n",
    "import os"
   ]
  },
  {
   "cell_type": "code",
   "execution_count": 189,
   "id": "782b08c2-6636-4124-b19a-3e179d0c9410",
   "metadata": {},
   "outputs": [
    {
     "data": {
      "text/plain": [
       "<gateway-client>"
      ]
     },
     "execution_count": 189,
     "metadata": {},
     "output_type": "execute_result"
    }
   ],
   "source": [
    "client = ServerlessClient(\n",
    "    token=os.environ.get(\"GATEWAY_TOKEN\", \"awesome_token\"),\n",
    "    host=os.environ.get(\"GATEWAY_HOST\", \"http://localhost:8000\"),\n",
    ")\n",
    "\n",
    "client"
   ]
  },
  {
   "cell_type": "code",
   "execution_count": 190,
   "id": "720b9c5b-2b2b-4954-ab85-5a1fc7bb99dd",
   "metadata": {},
   "outputs": [
    {
     "data": {
      "text/plain": [
       "QiskitFunction(my-first-pattern)"
      ]
     },
     "execution_count": 190,
     "metadata": {},
     "output_type": "execute_result"
    }
   ],
   "source": [
    "from qiskit_serverless import QiskitFunction\n",
    "\n",
    "function = QiskitFunction(\n",
    "    title=\"my-first-pattern\", entrypoint=\"Untitled23.ipynb\", working_dir=\"C:/Users/aarya/Folder1\"\n",
    ")\n",
    "\n",
    "client.upload(function)"
   ]
  },
  {
   "cell_type": "code",
   "execution_count": 191,
   "id": "1d285d60-63da-462b-be6f-a94d2ad62841",
   "metadata": {},
   "outputs": [
    {
     "data": {
      "text/plain": [
       "QiskitFunction(my-first-pattern)"
      ]
     },
     "execution_count": 191,
     "metadata": {},
     "output_type": "execute_result"
    }
   ],
   "source": [
    "my_pattern_function = client.get(\"my-first-pattern\")\n",
    "my_pattern_function"
   ]
  },
  {
   "cell_type": "code",
   "execution_count": 192,
   "id": "2582320b-1672-449c-b4ef-81b48cb176fc",
   "metadata": {},
   "outputs": [
    {
     "data": {
      "text/plain": [
       "<Job | 03d8dd4e-cef8-4225-bc93-cc812e93f09a>"
      ]
     },
     "execution_count": 192,
     "metadata": {},
     "output_type": "execute_result"
    }
   ],
   "source": [
    "job = my_pattern_function.run()\n",
    "job"
   ]
  },
  {
   "cell_type": "code",
   "execution_count": 193,
   "id": "46d4a755-b85f-435e-b989-6c3664e9adda",
   "metadata": {},
   "outputs": [
    {
     "data": {
      "text/plain": [
       "'QUEUED'"
      ]
     },
     "execution_count": 193,
     "metadata": {},
     "output_type": "execute_result"
    }
   ],
   "source": [
    "job.status()"
   ]
  },
  {
   "cell_type": "code",
   "execution_count": 194,
   "id": "1afe3f0f-2a26-4475-9667-47093b2a6811",
   "metadata": {},
   "outputs": [
    {
     "name": "stdout",
     "output_type": "stream",
     "text": [
      "No logs yet.\n"
     ]
    }
   ],
   "source": [
    "print(job.logs())"
   ]
  },
  {
   "cell_type": "code",
   "execution_count": null,
   "id": "aca8950d-1e4b-469f-922d-6e0d43a5eb29",
   "metadata": {},
   "outputs": [],
   "source": [
    "result = job.result()\n",
    "print(result)"
   ]
  },
  {
   "cell_type": "code",
   "execution_count": null,
   "id": "178c6be9-f070-4891-896e-0c42de170367",
   "metadata": {},
   "outputs": [],
   "source": []
  }
 ],
 "metadata": {
  "kernelspec": {
   "display_name": "Python 3 (ipykernel)",
   "language": "python",
   "name": "python3"
  },
  "language_info": {
   "codemirror_mode": {
    "name": "ipython",
    "version": 3
   },
   "file_extension": ".py",
   "mimetype": "text/x-python",
   "name": "python",
   "nbconvert_exporter": "python",
   "pygments_lexer": "ipython3",
   "version": "3.11.9"
  }
 },
 "nbformat": 4,
 "nbformat_minor": 5
}

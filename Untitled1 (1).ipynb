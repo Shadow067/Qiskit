{
 "cells": [
  {
   "cell_type": "code",
   "execution_count": 91,
   "id": "700de690-b8f6-4f4d-a576-90da815836b7",
   "metadata": {},
   "outputs": [],
   "source": [
    "from qiskit.circuit.library import EfficientSU2\n",
    "from qiskit import transpile\n",
    "from qiskit_ibm_runtime import QiskitRuntimeService, Session, Options\n",
    "from qiskit_aer import AerSimulator\n",
    "from qiskit_serverless import save_result\n",
    "import numpy as np"
   ]
  },
  {
   "cell_type": "code",
   "execution_count": 92,
   "id": "add598d9-0aac-4115-a2b2-9b9c07858fa5",
   "metadata": {},
   "outputs": [],
   "source": [
    "num_qubits = 4\n",
    "variational_circuit = EfficientSU2(num_qubits, reps=3)"
   ]
  },
  {
   "cell_type": "code",
   "execution_count": 93,
   "id": "16aa39bd-5025-4977-aaac-1aa0c5a3d74c",
   "metadata": {},
   "outputs": [],
   "source": [
    "simulator = AerSimulator()"
   ]
  },
  {
   "cell_type": "code",
   "execution_count": 94,
   "id": "43c32876-7ad1-4d75-af36-bf1a3aa1d943",
   "metadata": {},
   "outputs": [
    {
     "name": "stdout",
     "output_type": "stream",
     "text": [
      "15\n",
      "15\n",
      "15\n",
      "15\n",
      "15\n",
      "15\n",
      "15\n",
      "15\n",
      "15\n",
      "15\n"
     ]
    }
   ],
   "source": [
    "def transpile_circuit(circuit, simulator, optimization_level=3):\n",
    "    transpiled_circuit = transpile(circuit, simulator, optimization_level)\n",
    "    return transpiled_circuit\n",
    "\n",
    "lowest_depth3 = float(\"inf\")\n",
    "num_transpiles = 10\n",
    "\n",
    "for _ in range(num_transpiles):\n",
    "    transpiled_circuit = transpile_circuit(variational_circuit, simulator)\n",
    "    depth = transpiled_circuit.depth()\n",
    "    print(depth)\n",
    "    if depth < lowest_depth3:\n",
    "        lowest_depth3 = depth\n"
   ]
  },
  {
   "cell_type": "code",
   "execution_count": 95,
   "id": "1d7da884-174b-4e0e-9d2e-f5b4fd3f4e16",
   "metadata": {},
   "outputs": [
    {
     "name": "stdout",
     "output_type": "stream",
     "text": [
      "Lowest depth achieved: 15\n"
     ]
    }
   ],
   "source": [
    "print(f\"Lowest depth achieved: {lowest_depth3}\")"
   ]
  },
  {
   "cell_type": "code",
   "execution_count": 96,
   "id": "3bcdaedf-f7db-4465-861a-f264cf09a864",
   "metadata": {},
   "outputs": [
    {
     "name": "stdout",
     "output_type": "stream",
     "text": [
      "15\n",
      "15\n",
      "15\n",
      "15\n",
      "15\n",
      "15\n",
      "15\n",
      "15\n",
      "15\n",
      "15\n"
     ]
    }
   ],
   "source": [
    "lowest_depth2 = float(\"inf\")\n",
    "num_transpiles = 10\n",
    "\n",
    "for _ in range(num_transpiles):\n",
    "    transpiled_circuit = transpile_circuit(variational_circuit, simulator, 2)\n",
    "    depth = transpiled_circuit.depth()\n",
    "    print(depth)\n",
    "    if depth < lowest_depth2:\n",
    "        lowest_depth2 = depth"
   ]
  },
  {
   "cell_type": "code",
   "execution_count": 97,
   "id": "4a1048f3-7893-4076-921a-301f04c60768",
   "metadata": {},
   "outputs": [
    {
     "name": "stdout",
     "output_type": "stream",
     "text": [
      "Lowest depth achieved: 15\n"
     ]
    }
   ],
   "source": [
    "print(f\"Lowest depth achieved: {lowest_depth2}\")\n",
    "# print(\"Best transpiled circuit:\")\n",
    "# print(best_transpiled_circuit)"
   ]
  },
  {
   "cell_type": "code",
   "execution_count": 98,
   "id": "1eff6735-2aa1-43a4-b6f2-c09d3e902d94",
   "metadata": {},
   "outputs": [
    {
     "name": "stdout",
     "output_type": "stream",
     "text": [
      "15\n",
      "15\n",
      "15\n",
      "15\n",
      "15\n",
      "15\n",
      "15\n",
      "15\n",
      "15\n",
      "15\n"
     ]
    }
   ],
   "source": [
    "lowest_depth1 = float(\"inf\")\n",
    "num_transpiles = 10\n",
    "\n",
    "for _ in range(num_transpiles):\n",
    "    transpiled_circuit = transpile_circuit(variational_circuit, simulator, 1)\n",
    "    depth = transpiled_circuit.depth()\n",
    "    print(depth)\n",
    "    if depth < lowest_depth1:\n",
    "        lowest_depth1 = depth"
   ]
  },
  {
   "cell_type": "code",
   "execution_count": 99,
   "id": "11a330ea-766c-4dbd-bf88-5a0b42addd2a",
   "metadata": {},
   "outputs": [
    {
     "name": "stdout",
     "output_type": "stream",
     "text": [
      "Lowest depth achieved: 15\n"
     ]
    }
   ],
   "source": [
    "print(f\"Lowest depth achieved: {lowest_depth1}\")\n",
    "# print(\"Best transpiled circuit:\")\n",
    "# print(best_transpiled_circuit)"
   ]
  },
  {
   "cell_type": "code",
   "execution_count": 90,
   "id": "05d60b15-5048-46c0-9a87-a9f2a18e29dd",
   "metadata": {},
   "outputs": [
    {
     "name": "stderr",
     "output_type": "stream",
     "text": [
      "WARNING:root:Results will be saved as logs sincethere is no information about theauthorization token in the environment.\n"
     ]
    },
    {
     "name": "stdout",
     "output_type": "stream",
     "text": [
      "\n",
      "Saved Result:15:End Saved Result\n",
      "\n"
     ]
    },
    {
     "data": {
      "text/plain": [
       "False"
      ]
     },
     "execution_count": 90,
     "metadata": {},
     "output_type": "execute_result"
    }
   ],
   "source": [
    "save_result(lowest_depth1)"
   ]
  }
 ],
 "metadata": {
  "kernelspec": {
   "display_name": "Python 3 (ipykernel)",
   "language": "python",
   "name": "python3"
  },
  "language_info": {
   "codemirror_mode": {
    "name": "ipython",
    "version": 3
   },
   "file_extension": ".py",
   "mimetype": "text/x-python",
   "name": "python",
   "nbconvert_exporter": "python",
   "pygments_lexer": "ipython3",
   "version": "3.11.9"
  }
 },
 "nbformat": 4,
 "nbformat_minor": 5
}
